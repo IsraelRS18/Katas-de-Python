{
 "cells": [
  {
   "cell_type": "markdown",
   "metadata": {},
   "source": [
    "## Ejercicio 1: Uso de funciones en Python"
   ]
  },
  {
   "cell_type": "code",
   "execution_count": 6,
   "metadata": {},
   "outputs": [],
   "source": [
    "def rocket_parts(tanque1, tanque2, tanque3):\n",
    "    promedio = (tanque1 + tanque2 + tanque3) / 3\n",
    "    return f\"\"\"Reporte de combustible:\n",
    "    Promedio: {promedio}%\n",
    "    Tanque de combustible: {tanque1}%\n",
    "    Tanque de oxígeno: {tanque2}%\n",
    "    Tanque de oxígeno de emergencia: {tanque3}%\n",
    "    \"\"\""
   ]
  },
  {
   "cell_type": "code",
   "execution_count": 15,
   "metadata": {},
   "outputs": [
    {
     "name": "stdout",
     "output_type": "stream",
     "text": [
      "Reporte de combustible:\n",
      "    Promedio total: 78.33333333333333%\n",
      "    Tanque de combustible: 80%\n",
      "    Tanque de oxígeno: 70%\n",
      "    Tanque de oxígeno de emergencia: 85%\n",
      "    \n"
     ]
    }
   ],
   "source": [
    "print(rocket_parts(80, 70, 85))"
   ]
  },
  {
   "cell_type": "code",
   "execution_count": 16,
   "metadata": {},
   "outputs": [
    {
     "data": {
      "text/plain": [
       "82.0"
      ]
     },
     "execution_count": 16,
     "metadata": {},
     "output_type": "execute_result"
    }
   ],
   "source": [
    "def promedio(values): \n",
    "    total = sum(values)\n",
    "    número_de_items = len(values)\n",
    "    return total / número_de_items\n",
    "\n",
    "promedio([80, 85, 81])"
   ]
  },
  {
   "cell_type": "code",
   "execution_count": 19,
   "metadata": {},
   "outputs": [
    {
     "name": "stdout",
     "output_type": "stream",
     "text": [
      "Reporte de combustible:\n",
      "    Promedio total: 85.0%\n",
      "    Tanque de combustible: 89%\n",
      "    Tanque de oxígeno: 86%\n",
      "    Tanque de oxígeno de emergencia: 80%\n",
      "    \n"
     ]
    }
   ],
   "source": [
    "def rocket_parts(tanque1, tanque2, tanque3):\n",
    "    return f\"\"\"Reporte de combustible:\n",
    "    Promedio total: {promedio([tanque1, tanque2, tanque3])}%\n",
    "    Tanque de combustible: {tanque1}%\n",
    "    Tanque de oxígeno: {tanque2}%\n",
    "    Tanque de oxígeno de emergencia: {tanque3}%\n",
    "    \"\"\"\n",
    "\n",
    "print(rocket_parts(89, 86, 80))"
   ]
  },
  {
   "cell_type": "markdown",
   "metadata": {},
   "source": [
    "## Ejercicio 2: Trabajo con argumentos de palabra clave"
   ]
  },
  {
   "cell_type": "code",
   "execution_count": 21,
   "metadata": {},
   "outputs": [
    {
     "name": "stdout",
     "output_type": "stream",
     "text": [
      "\n",
      "    Misión a Luna\n",
      "    Tiempo total: 53 minutos\n",
      "    Combustible total: 520000 galones\n",
      "    \n"
     ]
    }
   ],
   "source": [
    "def reporte_de_misión(hora_de_prelanzamiento, tiempo_de_vuelo, destino, tanque_externo, tanque_interno):\n",
    "    return f\"\"\"\n",
    "    Misión a {destino}\n",
    "    Tiempo total: {hora_de_prelanzamiento + tiempo_de_vuelo} minutos\n",
    "    Combustible total: {tanque_externo + tanque_interno} galones\n",
    "    \"\"\" \n",
    "\n",
    "print(reporte_de_misión(13, 40, \"Luna\", 200000, 320000))"
   ]
  },
  {
   "cell_type": "code",
   "execution_count": 22,
   "metadata": {},
   "outputs": [
    {
     "name": "stdout",
     "output_type": "stream",
     "text": [
      "\n",
      "    Misión a Luna\n",
      "    Tiempo total: 78 minutos\n",
      "    Combustible total: 500000\n",
      "    \n"
     ]
    }
   ],
   "source": [
    "def reporte_de_misión(destino, *minutos, **combustible_de_repuesto):\n",
    "    return f\"\"\"\n",
    "    Misión a {destino}\n",
    "    Tiempo total: {sum(minutos)} minutos\n",
    "    Combustible total: {sum(combustible_de_repuesto.values())}\n",
    "    \"\"\"\n",
    "\n",
    "print(reporte_de_misión(\"Luna\", 12, 16, 50, interno=300000, externo=200000))"
   ]
  },
  {
   "cell_type": "code",
   "execution_count": 24,
   "metadata": {},
   "outputs": [
    {
     "name": "stdout",
     "output_type": "stream",
     "text": [
      "\n",
      "    Misión a Luna\n",
      "    Tiempo total: 74 minutos\n",
      "    Combustible total: sum474500\n",
      "    interno tan --> 350000 galones\n",
      "externo tan --> 124500 galones\n",
      "\n"
     ]
    }
   ],
   "source": [
    "def reporte_de_misión(destino, *minutos, **combustible_de_repuesto):\n",
    "    reporte = f\"\"\"\n",
    "    Misión a {destino}\n",
    "    Tiempo total: {sum(minutos)} minutos\n",
    "    Combustible total: sum{sum(combustible_de_repuesto.values())}\n",
    "    \"\"\"\n",
    "    for tanque, galones in combustible_de_repuesto.items():\n",
    "        reporte += f\"{tanque} tan --> {galones} galones\\n\"\n",
    "    return reporte\n",
    "\n",
    "print(reporte_de_misión(\"Luna\", 8, 11, 55, interno=350000, externo=124500))"
   ]
  }
 ],
 "metadata": {
  "interpreter": {
   "hash": "a6e39845e9d661858ff3a1b4eaaee3d385433cb8a207c16426d3589b2886a978"
  },
  "kernelspec": {
   "display_name": "Python 3.10.2 64-bit",
   "language": "python",
   "name": "python3"
  },
  "language_info": {
   "codemirror_mode": {
    "name": "ipython",
    "version": 3
   },
   "file_extension": ".py",
   "mimetype": "text/x-python",
   "name": "python",
   "nbconvert_exporter": "python",
   "pygments_lexer": "ipython3",
   "version": "3.10.2"
  },
  "orig_nbformat": 4
 },
 "nbformat": 4,
 "nbformat_minor": 2
}
