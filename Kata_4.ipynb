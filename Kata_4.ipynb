{
 "cells": [
  {
   "cell_type": "markdown",
   "metadata": {},
   "source": [
    "## Ejercicio 1: Transformar Cadenas"
   ]
  },
  {
   "cell_type": "code",
   "execution_count": 13,
   "metadata": {},
   "outputs": [],
   "source": [
    "Datos = \"\"\"Datos interesantes sobre la Luna:\\n La Luna es el único satélite de la Tierra.\\n Hay varios datos interesantes sobre la Luna y cómo afecta la vida aquí en la Tierra.\\n En promedio, la Luna se aleja 4cm de la Tierra cada año.\\n Esta deriva anual no es lo suficientemente significativa como para causar efectos inmediatos en la Tierra.\\n La temperatura diurna más alta de la Luna es de 127 C\"\"\".split('\\n')\n"
   ]
  },
  {
   "cell_type": "code",
   "execution_count": 14,
   "metadata": {},
   "outputs": [],
   "source": [
    "key_words = ('Promedio', 'Temperatura', 'Distancia')"
   ]
  },
  {
   "cell_type": "code",
   "execution_count": 16,
   "metadata": {},
   "outputs": [],
   "source": [
    "for sentence in Datos: \n",
    "    for key_word in key_words:\n",
    "        if key_word in sentence:\n",
    "            print(sentence)\n",
    "            break"
   ]
  },
  {
   "cell_type": "code",
   "execution_count": 19,
   "metadata": {},
   "outputs": [
    {
     "name": "stdout",
     "output_type": "stream",
     "text": [
      "Datos interesantes sobre la Luna:\n",
      " La Luna es el único satélite de la Tierra.\n",
      " Hay varios datos interesantes sobre la Luna y cómo afecta la vida aquí en la Tierra.\n",
      " En promedio, la Luna se aleja 4cm de la Tierra cada año.\n",
      " Esta deriva anual no es lo suficientemente significativa como para causar efectos inmediatos en la Tierra.\n",
      " La temperatura diurna más alta de la Luna es de 127 Celsius\n"
     ]
    }
   ],
   "source": [
    "for sentence in Datos:\n",
    "    for key_word in key_words:\n",
    "        if key_word in sentence:\n",
    "            print(sentence.replace(' C', ' Celsius'))\n",
    "            break\n",
    "    print(sentence.replace(' C', ' Celsius'))"
   ]
  },
  {
   "cell_type": "markdown",
   "metadata": {},
   "source": [
    "## Ejercicio 2: Formateando Cadenas"
   ]
  },
  {
   "cell_type": "code",
   "execution_count": 4,
   "metadata": {},
   "outputs": [],
   "source": [
    "satelite = \"Luna\"\n",
    "gravity = 0.00162\n",
    "planeta = \"Tierra\""
   ]
  },
  {
   "cell_type": "code",
   "execution_count": 8,
   "metadata": {},
   "outputs": [
    {
     "name": "stdout",
     "output_type": "stream",
     "text": [
      "La gravedad en la planeta y la satelite.\n"
     ]
    }
   ],
   "source": [
    "titulo = \"La gravedad en la planeta y la satelite.\"\n",
    "print(titulo)"
   ]
  },
  {
   "cell_type": "code",
   "execution_count": 9,
   "metadata": {},
   "outputs": [
    {
     "name": "stdout",
     "output_type": "stream",
     "text": [
      " Información:\n",
      " Luna\n",
      " La gravedad es de 1.6199999999999999m \n",
      " Tierra\n"
     ]
    }
   ],
   "source": [
    "multiline = f\" Información:\\n {satelite}\\n La gravedad es de {gravity * 1000}m \\n {planeta}\"\n",
    "print(multiline)"
   ]
  },
  {
   "cell_type": "code",
   "execution_count": 11,
   "metadata": {},
   "outputs": [
    {
     "name": "stdout",
     "output_type": "stream",
     "text": [
      "La gravedad en la planeta y la satelite. Información:\n",
      " Luna\n",
      " La gravedad es de 1.6199999999999999m \n",
      " Tierra\n"
     ]
    }
   ],
   "source": [
    "hechos_de_la_luna = titulo +  multiline\n",
    "print(hechos_de_la_luna)"
   ]
  },
  {
   "cell_type": "code",
   "execution_count": 12,
   "metadata": {},
   "outputs": [],
   "source": [
    "planeta = \"Marte\"\n",
    "gravity = 0.00143\n",
    "satelite = \"Ganímedes\""
   ]
  },
  {
   "cell_type": "code",
   "execution_count": 14,
   "metadata": {},
   "outputs": [
    {
     "name": "stdout",
     "output_type": "stream",
     "text": [
      "La gravedad en la planeta y la satelite. Información:\n",
      " Luna\n",
      " La gravedad es de 1.6199999999999999m \n",
      " Tierra\n"
     ]
    }
   ],
   "source": [
    "print(hechos_de_la_luna)"
   ]
  },
  {
   "cell_type": "code",
   "execution_count": 16,
   "metadata": {},
   "outputs": [
    {
     "name": "stdout",
     "output_type": "stream",
     "text": [
      "La gravedad de Marte y Ganímedes.\n"
     ]
    }
   ],
   "source": [
    "titulo2 = \"La gravedad de Marte y Ganímedes.\"\n",
    "print(titulo2)"
   ]
  },
  {
   "cell_type": "code",
   "execution_count": 18,
   "metadata": {},
   "outputs": [
    {
     "name": "stdout",
     "output_type": "stream",
     "text": [
      " Información:\n",
      " Ganímedes\n",
      " La gravedad es de 1.4300000000000002m \n",
      " Marte\n"
     ]
    }
   ],
   "source": [
    "multiline = f\" Información:\\n {satelite}\\n La gravedad es de {gravity * 1000}m \\n {planeta}\"\n",
    "print(multiline) "
   ]
  },
  {
   "cell_type": "code",
   "execution_count": 21,
   "metadata": {},
   "outputs": [
    {
     "name": "stdout",
     "output_type": "stream",
     "text": [
      "La gravedad de Marte y Ganímedes. Información:\n",
      " Ganímedes\n",
      " La gravedad es de 1.4300000000000002m \n",
      " Marte\n"
     ]
    }
   ],
   "source": [
    "hechos_de_ganímenes = titulo2 + multiline\n",
    "print(hechos_de_ganímenes)"
   ]
  }
 ],
 "metadata": {
  "interpreter": {
   "hash": "a6e39845e9d661858ff3a1b4eaaee3d385433cb8a207c16426d3589b2886a978"
  },
  "kernelspec": {
   "display_name": "Python 3.10.2 64-bit",
   "language": "python",
   "name": "python3"
  },
  "language_info": {
   "codemirror_mode": {
    "name": "ipython",
    "version": 3
   },
   "file_extension": ".py",
   "mimetype": "text/x-python",
   "name": "python",
   "nbconvert_exporter": "python",
   "pygments_lexer": "ipython3",
   "version": "3.10.2"
  },
  "orig_nbformat": 4
 },
 "nbformat": 4,
 "nbformat_minor": 2
}
