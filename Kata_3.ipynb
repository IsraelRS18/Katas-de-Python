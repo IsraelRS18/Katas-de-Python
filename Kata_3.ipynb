{
 "cells": [
  {
   "cell_type": "markdown",
   "metadata": {},
   "source": [
    "## Ejercicio 1:"
   ]
  },
  {
   "cell_type": "code",
   "execution_count": 6,
   "metadata": {},
   "outputs": [
    {
     "name": "stdout",
     "output_type": "stream",
     "text": [
      "¡¡Peligro!! ¡Un esteroide se acerca a unas velocidades peligrosas!\n"
     ]
    }
   ],
   "source": [
    "asteroide = 49\n",
    "b = 25\n",
    "if asteroide > b:\n",
    "    print (\"¡¡Peligro!! ¡Un esteroide se acerca a unas velocidades peligrosas!\")\n",
    "else:\n",
    "    print (\"No hay peligro, sigue con tu día\")"
   ]
  },
  {
   "cell_type": "markdown",
   "metadata": {},
   "source": [
    "## Ejercicio 2:"
   ]
  },
  {
   "cell_type": "code",
   "execution_count": 7,
   "metadata": {},
   "outputs": [
    {
     "name": "stdout",
     "output_type": "stream",
     "text": [
      "Nada que ver por aquí\n"
     ]
    }
   ],
   "source": [
    "asteroide = 19\n",
    "b = 20\n",
    "if asteroide > b:\n",
    "    print (\"¡¡Mira arriba!! ¡Hay una luz en el cielo!\")\n",
    "elif asteroide == b:\n",
    "    print (\"¡¡Mira arriba!! ¡Hay una luz en el cielo!\")\n",
    "else:\n",
    "    print(\"Nada que ver por aquí\")"
   ]
  },
  {
   "cell_type": "markdown",
   "metadata": {},
   "source": [
    "## Ejercicio 3:"
   ]
  },
  {
   "cell_type": "code",
   "execution_count": 4,
   "metadata": {},
   "outputs": [
    {
     "name": "stdout",
     "output_type": "stream",
     "text": [
      "¡¡Mira arriba!! ¡hay una luz en el cielo!\n"
     ]
    }
   ],
   "source": [
    "velocidad_asteroide = 25\n",
    "tamaño_asteroide = 40\n",
    "if velocidad_asteroide > 25 and tamaño_asteroide > 25:\n",
    "    print(\"¡Peligro, un asteroide viene hacia la tierra!\")\n",
    "elif velocidad_asteroide >= 20:\n",
    "    print(\"¡¡Mira arriba!! ¡hay una luz en el cielo!\")\n",
    "elif tamaño_asteroide < 25:\n",
    "    print(\"Nada que ver por aquí\")\n",
    "else:\n",
    "    print(\"Nada que ver por aquí\")"
   ]
  }
 ],
 "metadata": {
  "interpreter": {
   "hash": "a6e39845e9d661858ff3a1b4eaaee3d385433cb8a207c16426d3589b2886a978"
  },
  "kernelspec": {
   "display_name": "Python 3.10.2 64-bit",
   "language": "python",
   "name": "python3"
  },
  "language_info": {
   "codemirror_mode": {
    "name": "ipython",
    "version": 3
   },
   "file_extension": ".py",
   "mimetype": "text/x-python",
   "name": "python",
   "nbconvert_exporter": "python",
   "pygments_lexer": "ipython3",
   "version": "3.10.2"
  },
  "orig_nbformat": 4
 },
 "nbformat": 4,
 "nbformat_minor": 2
}
