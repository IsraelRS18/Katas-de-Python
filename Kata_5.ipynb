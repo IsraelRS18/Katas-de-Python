{
 "cells": [
  {
   "cell_type": "markdown",
   "metadata": {},
   "source": [
    "## Operadores aritméticos\n",
    "Crear un programa que pueda calcular la distancia entre dos planetas. Comenzaremos usando dos distancias de planetas: Tierra (149.597.870 km) y Júpiter (778.547.200 km)."
   ]
  },
  {
   "cell_type": "code",
   "execution_count": 34,
   "metadata": {},
   "outputs": [
    {
     "name": "stdout",
     "output_type": "stream",
     "text": [
      "628949330\n"
     ]
    }
   ],
   "source": [
    "DTierra = 149597870\n",
    "DJúpiter = 778547200\n",
    "\n",
    "distancia_Km = DTierra - DJúpiter\n",
    "print(abs(distancia_Km))"
   ]
  },
  {
   "cell_type": "code",
   "execution_count": 36,
   "metadata": {},
   "outputs": [
    {
     "name": "stdout",
     "output_type": "stream",
     "text": [
      "390577533\n"
     ]
    }
   ],
   "source": [
    "distancia_mi = int(distancia_Km * 0.621)\n",
    "print(abs(distancia_mi))"
   ]
  },
  {
   "cell_type": "markdown",
   "metadata": {},
   "source": [
    "## Crear una aplicación para trabajar con números y entrada de usuario"
   ]
  },
  {
   "cell_type": "code",
   "execution_count": 4,
   "metadata": {},
   "outputs": [
    {
     "name": "stdout",
     "output_type": "stream",
     "text": [
      "{'Mercurio': {'distancia': 57900000}, 'Venus': {'distancia': 108200000}, 'Tierra': {'distancia': 149600000}, 'Marte': {'distancia': 227900000}, 'Júpiter': {'distancia': 778600000}, 'Saturno': {'distancia': 1433500000}, 'Urano': {'distancia': 2872500000}, 'Neptuno': {'distancia': 4495100000}}\n",
      "La distancia al sol de la Tierra es 149600000 km.\n"
     ]
    }
   ],
   "source": [
    "planetas = ['Mercurio', 'Venus', 'Tierra', 'Marte', 'Júpiter', 'Saturno', 'Urano', 'Neptuno']\n",
    "sistema_solar = {}\n",
    "\n",
    "for planeta in planetas:\n",
    "    sistema_solar[planeta]= {'distancia': int(input(f'Introduzca la distancia del sol para {planeta} en KM: '))}\n",
    "\n",
    "print(sistema_solar)\n",
    "print(f\"La distancia al sol de la Tierra es {sistema_solar['Tierra']['distancia']} km.\")"
   ]
  },
  {
   "cell_type": "code",
   "execution_count": 9,
   "metadata": {},
   "outputs": [
    {
     "name": "stdout",
     "output_type": "stream",
     "text": [
      "50300000\n"
     ]
    }
   ],
   "source": [
    "primerPlaneta = 57900000\n",
    "segundoPlaneta = 108200000\n",
    "\n",
    "diferencia = abs(primerPlaneta - segundoPlaneta)\n",
    "print(diferencia)"
   ]
  },
  {
   "cell_type": "code",
   "execution_count": 15,
   "metadata": {},
   "outputs": [
    {
     "name": "stdout",
     "output_type": "stream",
     "text": [
      "31236300.0\n"
     ]
    }
   ],
   "source": [
    "mi_KM = diferencia * 0.621\n",
    "print(mi_KM)"
   ]
  }
 ],
 "metadata": {
  "interpreter": {
   "hash": "a6e39845e9d661858ff3a1b4eaaee3d385433cb8a207c16426d3589b2886a978"
  },
  "kernelspec": {
   "display_name": "Python 3.10.2 64-bit",
   "language": "python",
   "name": "python3"
  },
  "language_info": {
   "codemirror_mode": {
    "name": "ipython",
    "version": 3
   },
   "file_extension": ".py",
   "mimetype": "text/x-python",
   "name": "python",
   "nbconvert_exporter": "python",
   "pygments_lexer": "ipython3",
   "version": "3.10.2"
  },
  "orig_nbformat": 4
 },
 "nbformat": 4,
 "nbformat_minor": 2
}
